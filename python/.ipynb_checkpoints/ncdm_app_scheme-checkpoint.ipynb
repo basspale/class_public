{
 "cells": [
  {
   "cell_type": "code",
   "execution_count": 2,
   "metadata": {
    "collapsed": true
   },
   "outputs": [],
   "source": [
    "from classy import Class\n",
    "%matplotlib inline\n",
    "import matplotlib\n",
    "import matplotlib.pyplot as plt\n",
    "import numpy as np"
   ]
  },
  {
   "cell_type": "code",
   "execution_count": 3,
   "metadata": {
    "collapsed": true
   },
   "outputs": [],
   "source": [
    "font = {'size'   : 20, 'family':'STIXGeneral'}\n",
    "axislabelfontsize='x-large'\n",
    "#matplotlib.mathtext.rcParams['legend.fontsize']='medium'\n",
    "matplotlib.rc('font', **font)"
   ]
  },
  {
   "cell_type": "code",
   "execution_count": 4,
   "metadata": {
    "collapsed": false
   },
   "outputs": [],
   "source": [
    "params={}\n",
    "param_common={\n",
    "    'H0':'67.27',\n",
    "    'T_cmb':'2.7255',\n",
    "    'omega_b':'0.02225',\n",
    "    'N_ur':'3.046',\n",
    "    'output':'mPk',\n",
    "    'YHe':'BBN',\n",
    "    'recombination':'RECFAST',\n",
    "    'reio_parametrization':'reio_camb',\n",
    "    'tau_reio':'0.079',\n",
    "    'reionization_width':'0.5',\n",
    "    'ic':'ad',\n",
    "    'gauge':'synchronous',\n",
    "    'P_k_ini type':'analytic_Pk',\n",
    "    'P_k_max_h/Mpc':'1000.',\n",
    "    'z_pk':'0'\n",
    "}\n",
    "param_cdm={\n",
    "    'omega_cdm':'0.1198',\n",
    "    'N_ncdm':'0'\n",
    "}\n",
    "param_ncdm={\n",
    "    'omega_cdm':'0.0001198',\n",
    "    'N_ncdm':'1',\n",
    "    'm_ncdm':'2.e3',\n",
    "    'omega_ncdm':'0.1198',\n",
    "    'T_ncdm':'0.1266',\n",
    "    'ncdm_fluid_approximation':'3',\n",
    "    'l_max_ncdm':'17'\n",
    "}"
   ]
  },
  {
   "cell_type": "code",
   "execution_count": 5,
   "metadata": {
    "collapsed": false
   },
   "outputs": [
    {
     "name": "stdout",
     "output_type": "stream",
     "text": [
      "13.8308541204\n"
     ]
    }
   ],
   "source": [
    "cdm=Class()\n",
    "param_common.update(param_cdm)\n",
    "cdm.set(param_common)\n",
    "cdm.compute()\n",
    "print cdm.age()"
   ]
  },
  {
   "cell_type": "code",
   "execution_count": 6,
   "metadata": {
    "collapsed": false
   },
   "outputs": [],
   "source": [
    "k=np.logspace(-4,2.5,1000)\n",
    "pk_cdm=np.zeros(np.size(k))\n",
    "for i, kk in enumerate(k):\n",
    "    #print kk, cosmo.pk(kk,0)\n",
    "    pk_cdm[i]=cdm.pk(kk,0)"
   ]
  },
  {
   "cell_type": "code",
   "execution_count": 1,
   "metadata": {
    "collapsed": false
   },
   "outputs": [
    {
     "ename": "NameError",
     "evalue": "name 'Class' is not defined",
     "output_type": "error",
     "traceback": [
      "\u001b[0;31m---------------------------------------------------------------------------\u001b[0m",
      "\u001b[0;31mNameError\u001b[0m                                 Traceback (most recent call last)",
      "\u001b[0;32m<ipython-input-1-d001f343fd97>\u001b[0m in \u001b[0;36m<module>\u001b[0;34m()\u001b[0m\n\u001b[0;32m----> 1\u001b[0;31m \u001b[0mwdm\u001b[0m\u001b[0;34m=\u001b[0m\u001b[0mClass\u001b[0m\u001b[0;34m(\u001b[0m\u001b[0;34m)\u001b[0m\u001b[0;34m\u001b[0m\u001b[0m\n\u001b[0m\u001b[1;32m      2\u001b[0m \u001b[0mparam_common\u001b[0m\u001b[0;34m.\u001b[0m\u001b[0mupdate\u001b[0m\u001b[0;34m(\u001b[0m\u001b[0mparam_ncdm\u001b[0m\u001b[0;34m)\u001b[0m\u001b[0;34m\u001b[0m\u001b[0m\n\u001b[1;32m      3\u001b[0m \u001b[0mwdm\u001b[0m\u001b[0;34m.\u001b[0m\u001b[0mset\u001b[0m\u001b[0;34m(\u001b[0m\u001b[0mparam_common\u001b[0m\u001b[0;34m)\u001b[0m\u001b[0;34m\u001b[0m\u001b[0m\n\u001b[1;32m      4\u001b[0m \u001b[0mwdm\u001b[0m\u001b[0;34m.\u001b[0m\u001b[0mcompute\u001b[0m\u001b[0;34m(\u001b[0m\u001b[0;34m)\u001b[0m\u001b[0;34m\u001b[0m\u001b[0m\n",
      "\u001b[0;31mNameError\u001b[0m: name 'Class' is not defined"
     ]
    }
   ],
   "source": [
    "wdm=Class()\n",
    "param_common.update(param_ncdm)\n",
    "wdm.set(param_common)\n",
    "wdm.compute()"
   ]
  },
  {
   "cell_type": "code",
   "execution_count": 1,
   "metadata": {
    "collapsed": false
   },
   "outputs": [
    {
     "ename": "NameError",
     "evalue": "name 'np' is not defined",
     "output_type": "error",
     "traceback": [
      "\u001b[0;31m---------------------------------------------------------------------------\u001b[0m",
      "\u001b[0;31mNameError\u001b[0m                                 Traceback (most recent call last)",
      "\u001b[0;32m<ipython-input-1-1dd90e292a0a>\u001b[0m in \u001b[0;36m<module>\u001b[0;34m()\u001b[0m\n\u001b[0;32m----> 1\u001b[0;31m \u001b[0mpk_wdm\u001b[0m\u001b[0;34m=\u001b[0m\u001b[0mnp\u001b[0m\u001b[0;34m.\u001b[0m\u001b[0mzeros\u001b[0m\u001b[0;34m(\u001b[0m\u001b[0mnp\u001b[0m\u001b[0;34m.\u001b[0m\u001b[0msize\u001b[0m\u001b[0;34m(\u001b[0m\u001b[0mk\u001b[0m\u001b[0;34m)\u001b[0m\u001b[0;34m)\u001b[0m\u001b[0;34m\u001b[0m\u001b[0m\n\u001b[0m\u001b[1;32m      2\u001b[0m \u001b[0;32mfor\u001b[0m \u001b[0mi\u001b[0m\u001b[0;34m,\u001b[0m \u001b[0mkk\u001b[0m \u001b[0;32min\u001b[0m \u001b[0menumerate\u001b[0m\u001b[0;34m(\u001b[0m\u001b[0mk\u001b[0m\u001b[0;34m)\u001b[0m\u001b[0;34m:\u001b[0m\u001b[0;34m\u001b[0m\u001b[0m\n\u001b[1;32m      3\u001b[0m     \u001b[0;31m#print kk, cosmo.pk(kk,0)\u001b[0m\u001b[0;34m\u001b[0m\u001b[0;34m\u001b[0m\u001b[0m\n\u001b[1;32m      4\u001b[0m     \u001b[0mpk_wdm\u001b[0m\u001b[0;34m[\u001b[0m\u001b[0mi\u001b[0m\u001b[0;34m]\u001b[0m\u001b[0;34m=\u001b[0m\u001b[0mwdm\u001b[0m\u001b[0;34m.\u001b[0m\u001b[0mpk\u001b[0m\u001b[0;34m(\u001b[0m\u001b[0mkk\u001b[0m\u001b[0;34m,\u001b[0m\u001b[0;36m0\u001b[0m\u001b[0;34m)\u001b[0m\u001b[0;34m\u001b[0m\u001b[0m\n",
      "\u001b[0;31mNameError\u001b[0m: name 'np' is not defined"
     ]
    }
   ],
   "source": [
    "pk_wdm=np.zeros(np.size(k))\n",
    "for i, kk in enumerate(k):\n",
    "    #print kk, cosmo.pk(kk,0)\n",
    "    pk_wdm[i]=wdm.pk(kk,0)"
   ]
  },
  {
   "cell_type": "code",
   "execution_count": null,
   "metadata": {
    "collapsed": false
   },
   "outputs": [],
   "source": [
    "wdm2=Class()\n",
    "param_common.update(param_ncdm)\n",
    "param_common.update({'ncdm_fluid_approximation':'2'})\n",
    "wdm2.set(param_common)\n",
    "wdm2.compute()\n",
    "print wdm2.age()"
   ]
  },
  {
   "cell_type": "code",
   "execution_count": 30,
   "metadata": {
    "collapsed": true
   },
   "outputs": [],
   "source": [
    "pk_wdm2=np.zeros(np.size(k))\n",
    "for i, kk in enumerate(k):\n",
    "    #print kk, cosmo.pk(kk,0)\n",
    "    pk_wdm2[i]=wdm2.pk(kk,0)"
   ]
  },
  {
   "cell_type": "code",
   "execution_count": 32,
   "metadata": {
    "collapsed": false
   },
   "outputs": [
    {
     "name": "stdout",
     "output_type": "stream",
     "text": [
      "13.8275757034\n"
     ]
    }
   ],
   "source": [
    "wdm1=Class()\n",
    "param_common.update(param_ncdm)\n",
    "param_common.update({'ncdm_fluid_approximation':'1'})\n",
    "wdm1.set(param_common)\n",
    "wdm1.compute()\n",
    "print wdm1.age()\n",
    "pk_wdm1=np.zeros(np.size(k))\n",
    "for i, kk in enumerate(k):\n",
    "    #print kk, cosmo.pk(kk,0)\n",
    "    pk_wdm1[i]=wdm1.pk(kk,0)"
   ]
  },
  {
   "cell_type": "code",
   "execution_count": 33,
   "metadata": {
    "collapsed": false
   },
   "outputs": [
    {
     "name": "stdout",
     "output_type": "stream",
     "text": [
      "13.8275757034\n"
     ]
    }
   ],
   "source": [
    "wdm0=Class()\n",
    "param_common.update(param_ncdm)\n",
    "param_common.update({'ncdm_fluid_approximation':'0'})\n",
    "wdm0.set(param_common)\n",
    "wdm0.compute()\n",
    "print wdm0.age()\n",
    "pk_wdm0=np.zeros(np.size(k))\n",
    "for i, kk in enumerate(k):\n",
    "    #print kk, cosmo.pk(kk,0)\n",
    "    pk_wdm0[i]=wdm0.pk(kk,0)"
   ]
  },
  {
   "cell_type": "code",
   "execution_count": 46,
   "metadata": {
    "collapsed": false
   },
   "outputs": [
    {
     "data": {
      "text/plain": [
       "<matplotlib.text.Text at 0x1130757d0>"
      ]
     },
     "execution_count": 46,
     "metadata": {},
     "output_type": "execute_result"
    },
    {
     "data": {
      "image/png": "[encoded data removed]",
      "text/plain": [
       "<matplotlib.figure.Figure at 0x1137abf50>"
      ]
     },
     "metadata": {},
     "output_type": "display_data"
    }
   ],
   "source": [
    "plt.loglog(k,pk_cdm,label=\"CDM\")\n",
    "plt.loglog(k,pk_wdm,label=\"No app.\")\n",
    "plt.loglog(k,pk_wdm2,label=\"CLASS\")\n",
    "plt.loglog(k,pk_wdm1,label=\"hu\")\n",
    "plt.loglog(k,pk_wdm0,label=\"mb\")\n",
    "plt.legend(loc=\"best\")\n",
    "plt.xlabel(r\"$k\\ [h/\\mathrm{Mpc}]$\")\n",
    "plt.ylabel(r\"$P(k)$\")\n",
    "#plt.xlim([1, 300])"
   ]
  },
  {
   "cell_type": "code",
   "execution_count": null,
   "metadata": {
    "collapsed": true
   },
   "outputs": [],
   "source": []
  }
 ],
 "metadata": {
  "kernelspec": {
   "display_name": "Python 2",
   "language": "python",
   "name": "python2"
  },
  "language_info": {
   "codemirror_mode": {
    "name": "ipython",
    "version": 2
   },
   "file_extension": ".py",
   "mimetype": "text/x-python",
   "name": "python",
   "nbconvert_exporter": "python",
   "pygments_lexer": "ipython2",
   "version": "2.7.11"
  }
 },
 "nbformat": 4,
 "nbformat_minor": 0
}
